{
 "cells": [
  {
   "cell_type": "code",
   "execution_count": 3,
   "id": "e99e41d4",
   "metadata": {},
   "outputs": [
    {
     "name": "stdout",
     "output_type": "stream",
     "text": [
      "Twinkle,twinkle,little star,\n",
      "        how I wonder what you are! \n",
      "            up above the world so high,\n",
      "            like a diamond in the sky.\n",
      "    Twinkle,twinkle,little star,\n",
      "        how I wonder what you are\n"
     ]
    }
   ],
   "source": [
    "a = '''Twinkle,twinkle,little star,\n",
    "        how I wonder what you are! \n",
    "            up above the world so high,\n",
    "            like a diamond in the sky.\n",
    "    Twinkle,twinkle,little star,\n",
    "        how I wonder what you are'''\n",
    "print(a)"
   ]
  },
  {
   "cell_type": "code",
   "execution_count": 4,
   "id": "8658e12e",
   "metadata": {},
   "outputs": [
    {
     "name": "stdout",
     "output_type": "stream",
     "text": [
      "3.9.7\n"
     ]
    }
   ],
   "source": [
    "import platform\n",
    "print(platform.python_version())"
   ]
  },
  {
   "cell_type": "code",
   "execution_count": 5,
   "id": "76a20946",
   "metadata": {},
   "outputs": [
    {
     "name": "stdout",
     "output_type": "stream",
     "text": [
      "d1 = 28/12/2021\n",
      "d2 = December 28, 2021\n"
     ]
    }
   ],
   "source": [
    "from datetime import date\n",
    "\n",
    "today = date.today()\n",
    "\n",
    "\n",
    "d1 = today.strftime(\"%d/%m/%Y\")\n",
    "print(\"d1 =\", d1)\n",
    "\n",
    "\n",
    "d2 = today.strftime(\"%B %d, %Y\")\n",
    "print(\"d2 =\", d2)"
   ]
  },
  {
   "cell_type": "code",
   "execution_count": 6,
   "id": "88c4c9e6",
   "metadata": {},
   "outputs": [
    {
     "name": "stdout",
     "output_type": "stream",
     "text": [
      "Input the radius of the circle : 5\n",
      "The area of the circle with radius 5.0 is: 78.53981633974483\n"
     ]
    }
   ],
   "source": [
    "# import math module\n",
    "from math import pi\n",
    " \n",
    "# take input from user\n",
    "r = float(input (\"Input the radius of the circle : \"))\n",
    " \n",
    "# compute the area from radius of a circle given by user\n",
    "calculateArea = str(pi * r**2);\n",
    " \n",
    "#print result\n",
    "print (\"The area of the circle with radius \" + str(r) + \" is: \" + calculateArea)"
   ]
  },
  {
   "cell_type": "code",
   "execution_count": 7,
   "id": "b3dd76ec",
   "metadata": {},
   "outputs": [
    {
     "name": "stdout",
     "output_type": "stream",
     "text": [
      "first name: Haris\n",
      "last name: Muhammad\n",
      "Muhammad Haris\n"
     ]
    }
   ],
   "source": [
    "a = input(\"first name: \")\n",
    "b = input (\"last name: \")\n",
    "print(b,a)"
   ]
  },
  {
   "cell_type": "code",
   "execution_count": 8,
   "id": "2c268dfb",
   "metadata": {},
   "outputs": [
    {
     "name": "stdout",
     "output_type": "stream",
     "text": [
      "any number: 4\n",
      "any number: 6\n",
      "10\n"
     ]
    }
   ],
   "source": [
    "c = int(input(\"any number: \"))\n",
    "d = int(input(\"any number: \"))\n",
    "e = c + d\n",
    "print(e)"
   ]
  },
  {
   "cell_type": "code",
   "execution_count": 9,
   "id": "523c9768",
   "metadata": {},
   "outputs": [
    {
     "data": {
      "text/plain": [
       "'C:\\\\Users\\\\asad'"
      ]
     },
     "execution_count": 9,
     "metadata": {},
     "output_type": "execute_result"
    }
   ],
   "source": [
    "pwd"
   ]
  },
  {
   "cell_type": "code",
   "execution_count": null,
   "id": "d2b6bc55",
   "metadata": {},
   "outputs": [],
   "source": []
  }
 ],
 "metadata": {
  "kernelspec": {
   "display_name": "Python 3 (ipykernel)",
   "language": "python",
   "name": "python3"
  },
  "language_info": {
   "codemirror_mode": {
    "name": "ipython",
    "version": 3
   },
   "file_extension": ".py",
   "mimetype": "text/x-python",
   "name": "python",
   "nbconvert_exporter": "python",
   "pygments_lexer": "ipython3",
   "version": "3.9.7"
  }
 },
 "nbformat": 4,
 "nbformat_minor": 5
}
